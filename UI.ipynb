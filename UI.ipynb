{
 "cells": [
  {
   "cell_type": "code",
   "execution_count": 1,
   "id": "1abb4f9b",
   "metadata": {},
   "outputs": [
    {
     "name": "stderr",
     "output_type": "stream",
     "text": [
      "2022-10-06 16:07:14.817001: I tensorflow/core/platform/cpu_feature_guard.cc:193] This TensorFlow binary is optimized with oneAPI Deep Neural Network Library (oneDNN) to use the following CPU instructions in performance-critical operations:  AVX2 FMA\n",
      "To enable them in other operations, rebuild TensorFlow with the appropriate compiler flags.\n",
      "2022-10-06 16:07:15.171622: W tensorflow/stream_executor/platform/default/dso_loader.cc:64] Could not load dynamic library 'libcudart.so.11.0'; dlerror: libcudart.so.11.0: cannot open shared object file: No such file or directory\n",
      "2022-10-06 16:07:15.171635: I tensorflow/stream_executor/cuda/cudart_stub.cc:29] Ignore above cudart dlerror if you do not have a GPU set up on your machine.\n",
      "2022-10-06 16:07:15.220834: E tensorflow/stream_executor/cuda/cuda_blas.cc:2981] Unable to register cuBLAS factory: Attempting to register factory for plugin cuBLAS when one has already been registered\n",
      "2022-10-06 16:07:16.335173: W tensorflow/stream_executor/platform/default/dso_loader.cc:64] Could not load dynamic library 'libnvinfer.so.7'; dlerror: libnvinfer.so.7: cannot open shared object file: No such file or directory\n",
      "2022-10-06 16:07:16.335248: W tensorflow/stream_executor/platform/default/dso_loader.cc:64] Could not load dynamic library 'libnvinfer_plugin.so.7'; dlerror: libnvinfer_plugin.so.7: cannot open shared object file: No such file or directory\n",
      "2022-10-06 16:07:16.335255: W tensorflow/compiler/tf2tensorrt/utils/py_utils.cc:38] TF-TRT Warning: Cannot dlopen some TensorRT libraries. If you would like to use Nvidia GPU with TensorRT, please make sure the missing libraries mentioned above are installed properly.\n",
      "2022-10-06 16:07:18.104843: I tensorflow/stream_executor/cuda/cuda_gpu_executor.cc:966] could not open file to read NUMA node: /sys/bus/pci/devices/0000:01:00.0/numa_node\n",
      "Your kernel may have been built without NUMA support.\n",
      "2022-10-06 16:07:18.104947: W tensorflow/stream_executor/platform/default/dso_loader.cc:64] Could not load dynamic library 'libcudart.so.11.0'; dlerror: libcudart.so.11.0: cannot open shared object file: No such file or directory\n",
      "2022-10-06 16:07:18.104997: W tensorflow/stream_executor/platform/default/dso_loader.cc:64] Could not load dynamic library 'libcublas.so.11'; dlerror: libcublas.so.11: cannot open shared object file: No such file or directory\n",
      "2022-10-06 16:07:18.105039: W tensorflow/stream_executor/platform/default/dso_loader.cc:64] Could not load dynamic library 'libcublasLt.so.11'; dlerror: libcublasLt.so.11: cannot open shared object file: No such file or directory\n",
      "2022-10-06 16:07:18.105080: W tensorflow/stream_executor/platform/default/dso_loader.cc:64] Could not load dynamic library 'libcufft.so.10'; dlerror: libcufft.so.10: cannot open shared object file: No such file or directory\n",
      "2022-10-06 16:07:18.105120: W tensorflow/stream_executor/platform/default/dso_loader.cc:64] Could not load dynamic library 'libcurand.so.10'; dlerror: libcurand.so.10: cannot open shared object file: No such file or directory\n",
      "2022-10-06 16:07:18.105161: W tensorflow/stream_executor/platform/default/dso_loader.cc:64] Could not load dynamic library 'libcusolver.so.11'; dlerror: libcusolver.so.11: cannot open shared object file: No such file or directory\n",
      "2022-10-06 16:07:18.105201: W tensorflow/stream_executor/platform/default/dso_loader.cc:64] Could not load dynamic library 'libcusparse.so.11'; dlerror: libcusparse.so.11: cannot open shared object file: No such file or directory\n",
      "2022-10-06 16:07:18.105241: W tensorflow/stream_executor/platform/default/dso_loader.cc:64] Could not load dynamic library 'libcudnn.so.8'; dlerror: libcudnn.so.8: cannot open shared object file: No such file or directory\n",
      "2022-10-06 16:07:18.105247: W tensorflow/core/common_runtime/gpu/gpu_device.cc:1934] Cannot dlopen some GPU libraries. Please make sure the missing libraries mentioned above are installed properly if you would like to use GPU. Follow the guide at https://www.tensorflow.org/install/gpu for how to download and setup the required libraries for your platform.\n",
      "Skipping registering GPU devices...\n",
      "2022-10-06 16:07:18.106031: I tensorflow/core/platform/cpu_feature_guard.cc:193] This TensorFlow binary is optimized with oneAPI Deep Neural Network Library (oneDNN) to use the following CPU instructions in performance-critical operations:  AVX2 FMA\n",
      "To enable them in other operations, rebuild TensorFlow with the appropriate compiler flags.\n",
      "[INFO kernel.cc:1176] Loading model from path my_model/assets/ with prefix 7e3b7aea232c4386\n",
      "[INFO abstract_model.cc:1248] Engine \"GradientBoostedTreesQuickScorerExtended\" built\n",
      "[INFO kernel.cc:1022] Use fast generic engine\n"
     ]
    }
   ],
   "source": [
    "import tensorflow as tf\n",
    "import tensorflow_decision_forests as tfdf\n",
    "import ipywidgets as widgets\n",
    "\n",
    "model = tf.keras.models.load_model('my_model')"
   ]
  },
  {
   "cell_type": "code",
   "execution_count": 49,
   "id": "e342c49f",
   "metadata": {},
   "outputs": [
    {
     "data": {
      "application/vnd.jupyter.widget-view+json": {
       "model_id": "36ce61ab1e9644a48547bd454a5b096a",
       "version_major": 2,
       "version_minor": 0
      },
      "text/plain": [
       "VBox(children=(DatePicker(value=None, description='Date of transaction:'), HBox(children=(BoundedIntText(value…"
      ]
     },
     "metadata": {},
     "output_type": "display_data"
    }
   ],
   "source": [
    "from ipywidgets import HBox, VBox, IntSlider, interactive_output\n",
    "from IPython.display import display\n",
    "from datetime import date\n",
    "\n",
    "date = widgets.DatePicker(description='Date of transaction:')\n",
    "hour = widgets.BoundedIntText(\n",
    "    value=23,\n",
    "    min=0,\n",
    "    max=23,\n",
    "    step=1,\n",
    "    description='Time:')\n",
    "minute = widgets.BoundedIntText(\n",
    "    value=0,\n",
    "    min=0,\n",
    "    max=59,\n",
    "    step=1,\n",
    "    description='')\n",
    "second = widgets.BoundedIntText(\n",
    "    value=0,\n",
    "    min=0,\n",
    "    max=59,\n",
    "    step=1,\n",
    "    description='')\n",
    "time = HBox([hour, minute, second])\n",
    "category = widgets.Dropdown(\n",
    "    options=[('Personal Care', 'personal_care'), ('Health/Fitness', 'health_fitness'), ('Miscellaneous', 'misc_net'),\n",
    "            ('Travel', 'travel'), ('Entertainment', 'entertainment'), ('Food/Dining', 'food_dining'), \n",
    "             ('Apparel', 'shopping_net'), ('Grocery', 'grocery_pos'), ('Transport', 'gas_transport'), \n",
    "             ('Kids/Pets', 'kids_pets'), ('Home', 'home')],\n",
    "    value='entertainment',\n",
    "    description='Category:')\n",
    "amount = widgets.FloatText(\n",
    "    value=614.72,\n",
    "    description='Amount:')\n",
    "first = widgets.Text(\n",
    "    value='Michael',\n",
    "    placeholder='First',\n",
    "    description='Name:')\n",
    "last = widgets.Text(\n",
    "    value='Jackson',\n",
    "    placeholder='Last',\n",
    "    description='')\n",
    "name = HBox([first, last])\n",
    "city = widgets.Text(\n",
    "    value='Pea Ridge',\n",
    "    description='City')\n",
    "state = widgets.Dropdown(\n",
    "    options=['AL', 'AK', 'AZ', 'AR', 'CA', 'CO', 'CT', 'DE', 'FL', 'GA', 'HI', 'ID', 'IL', 'IN', 'IA', 'KS', 'KY', \n",
    "             'LA', 'ME', 'MD', 'MA', 'MI', 'MN', 'MS', 'MO', 'MT', 'NE', 'NV', 'NH', 'NJ', 'NM', 'NY', 'NC', 'ND', \n",
    "             'OH', 'OK', 'OR', 'PA', 'RI', 'SC', 'SD', 'TN', 'TX', 'UT', 'VT', 'VA', 'WA', 'WV', 'WI', 'WY'],\n",
    "    value='AL',\n",
    "    description='State:')\n",
    "postal = widgets.BoundedIntText(\n",
    "    value=72751,\n",
    "    min=10000,\n",
    "    max=99999,\n",
    "    step=1,\n",
    "    description='zip code:')\n",
    "birth = widgets.DatePicker(description='Date of birth:')\n",
    "\n",
    "VBox([date, time, category, amount, name, city, state, postal, birth])"
   ]
  },
  {
   "cell_type": "code",
   "execution_count": 56,
   "id": "00247af3",
   "metadata": {},
   "outputs": [
    {
     "data": {
      "application/vnd.jupyter.widget-view+json": {
       "model_id": "17b40c65dc114b4085b9470e64d2b4e1",
       "version_major": 2,
       "version_minor": 0
      },
      "text/plain": [
       "Button(description='Submit', style=ButtonStyle())"
      ]
     },
     "metadata": {},
     "output_type": "display_data"
    },
    {
     "data": {
      "application/vnd.jupyter.widget-view+json": {
       "model_id": "59db5232d50c4a019760b7c5267958b2",
       "version_major": 2,
       "version_minor": 0
      },
      "text/plain": [
       "Output()"
      ]
     },
     "metadata": {},
     "output_type": "display_data"
    }
   ],
   "source": [
    "from IPython.display import display\n",
    "output = widgets.Output()\n",
    "\n",
    "submit = widgets.Button(description='Submit')\n",
    "\n",
    "display(submit, output)\n",
    "\n",
    "def on_submit_clicked(b):\n",
    "    inputs = {\n",
    "        'trans_date_trans_time': tf.constant(f'{date.value} {hour.value}:{minute.value}:{second.value}', \n",
    "                                             dtype=tf.string, shape=(1,)), \n",
    "       'category': tf.constant(category.value, dtype=tf.string, shape=(1,)), \n",
    "       'amt': tf.constant(amount.value, dtype=tf.float64, shape=(1,)),\n",
    "       'first': tf.constant(first.value, dtype=tf.string, shape=(1,)), \n",
    "       'last': tf.constant(last.value, dtype=tf.string, shape=(1,)),\n",
    "       'city': tf.constant(city.value, dtype=tf.string, shape=(1,)), \n",
    "       'state': tf.constant(state.value, dtype=tf.string, shape=(1,)), \n",
    "       'zip': tf.constant(postal.value, dtype=tf.int64, shape=(1,)), \n",
    "       'dob': tf.constant(f'{birth.value}', dtype=tf.string, shape=(1,))}\n",
    "\n",
    "    result=model(inputs).numpy()[0][0]*100\n",
    "    result=round(result, 2)\n",
    "    with output:\n",
    "        output.clear_output()\n",
    "        print(f'The chance of this transaction being fraud is %{result}')\n",
    "submit.on_click(on_submit_clicked)"
   ]
  },
  {
   "cell_type": "code",
   "execution_count": null,
   "id": "661dba47",
   "metadata": {},
   "outputs": [],
   "source": []
  }
 ],
 "metadata": {
  "kernelspec": {
   "display_name": "Python 3 (ipykernel)",
   "language": "python",
   "name": "python3"
  },
  "language_info": {
   "codemirror_mode": {
    "name": "ipython",
    "version": 3
   },
   "file_extension": ".py",
   "mimetype": "text/x-python",
   "name": "python",
   "nbconvert_exporter": "python",
   "pygments_lexer": "ipython3",
   "version": "3.10.4"
  }
 },
 "nbformat": 4,
 "nbformat_minor": 5
}
